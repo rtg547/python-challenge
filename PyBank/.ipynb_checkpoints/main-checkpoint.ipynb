{
 "cells": [
  {
   "cell_type": "code",
   "execution_count": 73,
   "id": "e8708dbe-4a57-4736-81de-ecefdcb36bb5",
   "metadata": {},
   "outputs": [],
   "source": [
    "#Created my path\n",
    "from pathlib import Path\n",
    "import csv"
   ]
  },
  {
   "cell_type": "code",
   "execution_count": 74,
   "id": "8278b439-a77e-4dbd-9025-045529029cd4",
   "metadata": {},
   "outputs": [
    {
     "name": "stdout",
     "output_type": "stream",
     "text": [
      "Where is this notebook? C:\\Users\\rtg547\\OneDrive\\Documents\\FinTech\\python challenge\\python-challenge\\PyBank\n"
     ]
    }
   ],
   "source": [
    "#printed my path way so I can see where I need to pull the starter code to\n",
    "print(f\"Where is this notebook? {Path.cwd()}\")"
   ]
  },
  {
   "cell_type": "code",
   "execution_count": 75,
   "id": "0729c40c-b85b-4ee8-8706-a2579f2f277b",
   "metadata": {},
   "outputs": [
    {
     "data": {
      "text/plain": [
       "WindowsPath('../../../Starter_Code/PyBank/Resources/budget_data.csv')"
      ]
     },
     "execution_count": 75,
     "metadata": {},
     "output_type": "execute_result"
    }
   ],
   "source": [
    "#Created the filepath back to the starter code\n",
    "filepath = Path(\"../../../Starter_Code/PyBank/Resources/budget_data.csv\")\n",
    "filepath"
   ]
  },
  {
   "cell_type": "code",
   "execution_count": 76,
   "id": "a9788493-603c-4683-be3f-5bc05c3dc689",
   "metadata": {},
   "outputs": [],
   "source": [
    "#Creating a list to attach my data to\n",
    "data_profit_loss=[]\n",
    "line_num =0 "
   ]
  },
  {
   "cell_type": "code",
   "execution_count": 77,
   "id": "f7706d7e-4f4e-42bc-b3db-c032d8b09aeb",
   "metadata": {},
   "outputs": [
    {
     "name": "stdout",
     "output_type": "stream",
     "text": [
      "867884\n",
      "984655\n",
      "322013\n",
      "-69417\n",
      "310503\n",
      "522857\n",
      "1033096\n",
      "604885\n",
      "-216386\n",
      "477532\n",
      "893810\n",
      "-80353\n",
      "779806\n",
      "-335203\n",
      "697845\n",
      "793163\n",
      "485070\n",
      "584122\n",
      "62729\n",
      "668179\n",
      "899906\n",
      "834719\n",
      "132003\n",
      "309978\n",
      "-755566\n",
      "1170593\n",
      "252788\n",
      "1151518\n",
      "817256\n",
      "570757\n",
      "506702\n",
      "-1022534\n",
      "475062\n",
      "779976\n",
      "144175\n",
      "542494\n",
      "359333\n",
      "321469\n",
      "67780\n",
      "471435\n",
      "565603\n",
      "872480\n",
      "789480\n",
      "999942\n",
      "-1196225\n",
      "268997\n",
      "-687986\n",
      "1150461\n",
      "682458\n",
      "617856\n",
      "824098\n",
      "581943\n",
      "132864\n",
      "448062\n",
      "689161\n",
      "800701\n",
      "1166643\n",
      "947333\n",
      "578668\n",
      "988505\n",
      "1139715\n",
      "1029471\n",
      "687533\n",
      "-524626\n",
      "158620\n",
      "87795\n",
      "423389\n",
      "840723\n",
      "568529\n",
      "332067\n",
      "989499\n",
      "778237\n",
      "650000\n",
      "-1100387\n",
      "-174946\n",
      "757143\n",
      "445709\n",
      "712961\n",
      "-1163797\n",
      "569899\n",
      "768450\n",
      "102685\n",
      "795914\n",
      "60988\n",
      "138230\n",
      "671099\n"
     ]
    }
   ],
   "source": [
    "#Opening my filepath and reading it as a csvfile\n",
    "with open(filepath, 'r') as csvprofit:\n",
    "    \n",
    "    #Print data type\n",
    "    #print(type(csvfile))\n",
    "    \n",
    "    #Telling it how to read the csvfile\n",
    "    csvreader = csv.reader(csvprofit, delimiter=',')\n",
    "    \n",
    "    #print data type again\n",
    "    #print(type(csvreader))\n",
    "    \n",
    "    #Telling it to not read the header and read line by line\n",
    "    header = next(csvreader)\n",
    "    line_num +=1\n",
    "    #print(header)\n",
    "    \n",
    "    #Reading the months so I can get a total count of the months, \n",
    "    for row in csvreader:\n",
    "         \n",
    "        #How to read the data\n",
    "        profit_loss = int(row[1])\n",
    "        print(profit_loss)\n",
    "        \n",
    "        #append the row of profit/loss to the empty list\n",
    "        #data_buget.append(month)\n",
    "        data_profit_loss.append(profit_loss)"
   ]
  },
  {
   "cell_type": "code",
   "execution_count": 78,
   "id": "12905f5e-069f-47db-a89d-62e559184716",
   "metadata": {},
   "outputs": [
    {
     "data": {
      "text/plain": [
       "[867884,\n",
       " 984655,\n",
       " 322013,\n",
       " -69417,\n",
       " 310503,\n",
       " 522857,\n",
       " 1033096,\n",
       " 604885,\n",
       " -216386,\n",
       " 477532,\n",
       " 893810,\n",
       " -80353,\n",
       " 779806,\n",
       " -335203,\n",
       " 697845,\n",
       " 793163,\n",
       " 485070,\n",
       " 584122,\n",
       " 62729,\n",
       " 668179,\n",
       " 899906,\n",
       " 834719,\n",
       " 132003,\n",
       " 309978,\n",
       " -755566,\n",
       " 1170593,\n",
       " 252788,\n",
       " 1151518,\n",
       " 817256,\n",
       " 570757,\n",
       " 506702,\n",
       " -1022534,\n",
       " 475062,\n",
       " 779976,\n",
       " 144175,\n",
       " 542494,\n",
       " 359333,\n",
       " 321469,\n",
       " 67780,\n",
       " 471435,\n",
       " 565603,\n",
       " 872480,\n",
       " 789480,\n",
       " 999942,\n",
       " -1196225,\n",
       " 268997,\n",
       " -687986,\n",
       " 1150461,\n",
       " 682458,\n",
       " 617856,\n",
       " 824098,\n",
       " 581943,\n",
       " 132864,\n",
       " 448062,\n",
       " 689161,\n",
       " 800701,\n",
       " 1166643,\n",
       " 947333,\n",
       " 578668,\n",
       " 988505,\n",
       " 1139715,\n",
       " 1029471,\n",
       " 687533,\n",
       " -524626,\n",
       " 158620,\n",
       " 87795,\n",
       " 423389,\n",
       " 840723,\n",
       " 568529,\n",
       " 332067,\n",
       " 989499,\n",
       " 778237,\n",
       " 650000,\n",
       " -1100387,\n",
       " -174946,\n",
       " 757143,\n",
       " 445709,\n",
       " 712961,\n",
       " -1163797,\n",
       " 569899,\n",
       " 768450,\n",
       " 102685,\n",
       " 795914,\n",
       " 60988,\n",
       " 138230,\n",
       " 671099]"
      ]
     },
     "execution_count": 78,
     "metadata": {},
     "output_type": "execute_result"
    }
   ],
   "source": [
    "#confirmation it's in a list form\n",
    "data_profit_loss"
   ]
  },
  {
   "cell_type": "code",
   "execution_count": 79,
   "id": "52cc473f-d445-4190-ae77-068c4ef1dbc9",
   "metadata": {},
   "outputs": [],
   "source": [
    "#Set up our metrics, trying to find net total of profit/losses and avg of the changes\n",
    "max_profit = 0\n",
    "min_profit = 0\n",
    "avg_profit = 0\n",
    "total_profit_loss = 0\n",
    "count_profit_loss = 0"
   ]
  },
  {
   "cell_type": "code",
   "execution_count": 80,
   "id": "095dad66-44f2-41f5-b846-1aca4459dd86",
   "metadata": {},
   "outputs": [
    {
     "name": "stdout",
     "output_type": "stream",
     "text": [
      "Total Months: 86\n",
      "Total: 38382578\n",
      "Average Change: 446309.05\n",
      "Greatest Increase in Profits: 1170593\n",
      "Greatest Decrease in Profits: -1196225\n"
     ]
    }
   ],
   "source": [
    "#creating our for loop to get max and min values\n",
    "for profit_loss in data_profit_loss:\n",
    "    total_profit_loss += profit_loss\n",
    "    count_profit_loss += 1\n",
    "    \n",
    "    #Min and max\n",
    "    if min_profit == 0:\n",
    "        min_profit = profit_loss\n",
    "    elif profit_loss < min_profit:\n",
    "        min_profit = profit_loss\n",
    "    elif profit_loss > max_profit:\n",
    "        max_profit = profit_loss\n",
    "\n",
    "#inputting metrics to calculate avg profit/loss rounded to 2 decimials\n",
    "avg_profit = round(total_profit_loss / count_profit_loss,2)\n",
    "\n",
    "#Printing my values\n",
    "print(f\"Total Months: {count_profit_loss}\")\n",
    "print(f\"Total: {total_profit_loss}\")\n",
    "print(f\"Average Change: {avg_profit}\")\n",
    "print(f\"Greatest Increase in Profits: {max_profit}\")\n",
    "print(f\"Greatest Decrease in Profits: {min_profit}\")"
   ]
  },
  {
   "cell_type": "code",
   "execution_count": 81,
   "id": "c90a633d-cc45-457a-b5ee-59c294236455",
   "metadata": {},
   "outputs": [],
   "source": [
    "#Creating the header and columns of the text file\n",
    "header = [\"Financial Analysis\"]\n",
    "space = [\"-----------------------------------------------\"]\n",
    "columns = [f\"Total Months: {count_profit_loss}\"\n",
    "           f\"\\nTotal:$ {total_profit_loss}\"\n",
    "           f\"\\nAverage Change: {avg_profit}\"\n",
    "           f\"\\nGreatest Increase in Profits: {max_profit}\"\n",
    "           f\"\\nGreatest Decrease in Profits: {min_profit}\"]"
   ]
  },
  {
   "cell_type": "code",
   "execution_count": 82,
   "id": "cc72660a-ea6d-4da1-a09e-7ed9fddfcd2e",
   "metadata": {},
   "outputs": [],
   "source": [
    "#output path\n",
    "output_path=Path('results.txt')"
   ]
  },
  {
   "cell_type": "code",
   "execution_count": 83,
   "id": "93e0e7f7-9c59-4caa-8267-6e3169f037ab",
   "metadata": {},
   "outputs": [],
   "source": [
    "#Using open to write as a textfile the values I got using the heading and colums I set\n",
    "with open(output_path, 'w') as textfile:\n",
    "    csvwriter = csv.writer(textfile)\n",
    "    csvwriter.writerow(header)\n",
    "    csvwriter.writerow(space)\n",
    "    csvwriter.writerow(columns)"
   ]
  },
  {
   "cell_type": "code",
   "execution_count": null,
   "id": "d0a5e1a6-0e94-4329-a074-f06cb66794fe",
   "metadata": {},
   "outputs": [],
   "source": []
  }
 ],
 "metadata": {
  "kernelspec": {
   "display_name": "Python 3 (ipykernel)",
   "language": "python",
   "name": "python3"
  },
  "language_info": {
   "codemirror_mode": {
    "name": "ipython",
    "version": 3
   },
   "file_extension": ".py",
   "mimetype": "text/x-python",
   "name": "python",
   "nbconvert_exporter": "python",
   "pygments_lexer": "ipython3",
   "version": "3.7.13"
  }
 },
 "nbformat": 4,
 "nbformat_minor": 5
}
